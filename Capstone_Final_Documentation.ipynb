{
 "cells": [
  {
   "cell_type": "markdown",
   "metadata": {},
   "source": [
    "# Introduction"
   ]
  },
  {
   "cell_type": "markdown",
   "metadata": {},
   "source": [
    "A graduate student has been offered a position upon graduation. Now that they have decided to accept the position the student wants to compare neighborhoods in the surrounding area to determine where they would most like to live. The soon to be graduate enjoys trying foods from around the world, completing work from local coffee shops, and likes to have ready access to potential gyms. "
   ]
  },
  {
   "cell_type": "markdown",
   "metadata": {},
   "source": [
    "# Data"
   ]
  },
  {
   "cell_type": "markdown",
   "metadata": {},
   "source": [
    "This effort leveraged Foursquare location data to evaluate the businesses in the surrounding neighborhoods. Based on this data the analysis examines locations and ratings of coffee shops and gyms in various neighborhoods. Additionally, the number of different cuisines available within the neighborhood is examined. "
   ]
  },
  {
   "cell_type": "code",
   "execution_count": null,
   "metadata": {},
   "outputs": [],
   "source": []
  }
 ],
 "metadata": {
  "kernelspec": {
   "display_name": "Python 3",
   "language": "python",
   "name": "python3"
  },
  "language_info": {
   "codemirror_mode": {
    "name": "ipython",
    "version": 3
   },
   "file_extension": ".py",
   "mimetype": "text/x-python",
   "name": "python",
   "nbconvert_exporter": "python",
   "pygments_lexer": "ipython3",
   "version": "3.7.9"
  }
 },
 "nbformat": 4,
 "nbformat_minor": 4
}
