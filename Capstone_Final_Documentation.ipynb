{
 "cells": [
  {
   "cell_type": "markdown",
   "metadata": {},
   "source": [
    "# Introduction"
   ]
  },
  {
   "cell_type": "markdown",
   "metadata": {},
   "source": [
    "A graduate student has been offered a research position at Howard University Hospital in Washington, DC upon graduation. Now that they have decided to accept the position the student wants to compare neighborhoods in the surrounding area to determine where they would most like to live. The soon to be graduate enjoys trying foods from around the world, completing work from local cafes, and taking their dog to local parks. Additionally, they are interested in experiencing local arts and want to be able to attend theater and music venues. Finally they are interested in different types of gyms, and would ideally live within a mile of work to allow for an easy commute."
   ]
  },
  {
   "cell_type": "markdown",
   "metadata": {},
   "source": [
    "# Data"
   ]
  },
  {
   "cell_type": "markdown",
   "metadata": {},
   "source": [
    "This effort leveraged data from Open Data DC to specify each of the unique neighborhoods within DC for consideration. Foursquare data was used to determine the number of venues of various types in each neighborhood. Based on this data, the analysis examines which neighborhoods meet the interests of the soon to be graduate.\n",
    "\n",
    "Foursquare location data to evaluate the businesses in the surrounding neighborhoods. Based on this data the analysis examines number of coffee shops, gyms, and more in various neighborhoods. Additionally, the number of different cuisines available within the neighborhood is examined. "
   ]
  },
  {
   "cell_type": "markdown",
   "metadata": {},
   "source": [
    "# Methodology"
   ]
  },
  {
   "cell_type": "markdown",
   "metadata": {},
   "source": [
    "Methodology section which represents the main component of the report where you discuss and describe any exploratory data analysis that you did, any inferential statistical testing that you performed, if any, and what machine learnings were used and why.\n",
    "\n",
    "The location of the new graduates job was found using Geolocator, and the latitude and longitude for all neighborhoods in D.C. were pulled from Open Data DC. Leveraging Foursquare, venues in the area of each neighborhood were identified and examined. Examination included the number of categories and the unique categories represented in the venues.\n",
    "\n",
    "Within each neighborhood the number of venues belonging to each category was determined, as were the total number of venues that meed the desires of the new graduate: cafes/bakeries, gyms, options for activities with their dog, restaurants with cuisine of interest, and various entertainment activities.\n",
    "\n",
    "Statistics were collected examining the total number venues for each option across the neighborhoods. The graduate requires a neighborhood that has at least two options for dog and entertainment, at least 3 options for cafes and gyms, and more than 6 distinct restaurants. Finally, the relevant neighborhoods were examined by proximity to new job, and options within a mile and a half were plotted."
   ]
  },
  {
   "cell_type": "markdown",
   "metadata": {},
   "source": [
    "# Results and Discussion"
   ]
  },
  {
   "cell_type": "markdown",
   "metadata": {},
   "source": [
    "Four neighborhoods meet the interests of the graduate. Dupont Circle offers the most options in each of the areas of interest, but is also the furthest neighborhood considered. The next furthest neighborhood, Edgewood, has the least number of restaurant options and does not offer any more options than Dupont Circle in any of the other categories. Therefore, Edgewood was removed from further consideration.\n",
    "\n",
    "Howard University and Stronghold are the closest neighborhoods and offer the same number of coffee, gym, activities, and options for dogs. There are a similar total number of restaurants between the these two neighborhoods and Dupont Circle. However, examination of the number of uniuque cuisines represented by those restaurants shows that Howard University offers the most options."
   ]
  },
  {
   "cell_type": "markdown",
   "metadata": {},
   "source": [
    "# Conclusions"
   ]
  },
  {
   "cell_type": "markdown",
   "metadata": {},
   "source": [
    "Howard University neighborhood is the closest neighborhood that offers a number of restaurant options, covering 16 unique cuisines. The neighborhood also includes a number of coffee and gym venues, nine and three options respectively. There are also two options each in outdoor activities for dogs and entertainment. Recommend that the graduate examine options in Howard University neighborhood first, followed by Stronghold."
   ]
  },
  {
   "cell_type": "code",
   "execution_count": null,
   "metadata": {},
   "outputs": [],
   "source": []
  }
 ],
 "metadata": {
  "kernelspec": {
   "display_name": "Python 3",
   "language": "python",
   "name": "python3"
  },
  "language_info": {
   "codemirror_mode": {
    "name": "ipython",
    "version": 3
   },
   "file_extension": ".py",
   "mimetype": "text/x-python",
   "name": "python",
   "nbconvert_exporter": "python",
   "pygments_lexer": "ipython3",
   "version": "3.7.9"
  }
 },
 "nbformat": 4,
 "nbformat_minor": 4
}
